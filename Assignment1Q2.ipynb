{
  "nbformat": 4,
  "nbformat_minor": 0,
  "metadata": {
    "colab": {
      "name": "Assignment1Q2.ipynb",
      "provenance": [],
      "include_colab_link": true
    },
    "kernelspec": {
      "name": "python3",
      "display_name": "Python 3"
    }
  },
  "cells": [
    {
      "cell_type": "markdown",
      "metadata": {
        "id": "view-in-github",
        "colab_type": "text"
      },
      "source": [
        "<a href=\"https://colab.research.google.com/github/BeegumThamanna/Assignment1Q2/blob/main/Assignment1Q2.ipynb\" target=\"_parent\"><img src=\"https://colab.research.google.com/assets/colab-badge.svg\" alt=\"Open In Colab\"/></a>"
      ]
    },
    {
      "cell_type": "markdown",
      "metadata": {
        "id": "ym1rH_UaXY66"
      },
      "source": [
        "**Experiment with 5 Dictionary’s In-Built Functions**"
      ]
    },
    {
      "cell_type": "markdown",
      "metadata": {
        "id": "j2BZ2qZbS-FC"
      },
      "source": [
        "1. get\r\n"
      ]
    },
    {
      "cell_type": "code",
      "metadata": {
        "colab": {
          "base_uri": "https://localhost:8080/"
        },
        "id": "cyj31vpOQsZC",
        "outputId": "14887d6c-461d-44a8-bc80-b0153bea56a4"
      },
      "source": [
        "student = { 'name' : 'Thamanna', 'adm.no':15015,'department':'cse' }\r\n",
        "print(student.get('name'))"
      ],
      "execution_count": null,
      "outputs": [
        {
          "output_type": "stream",
          "text": [
            "Thamanna\n"
          ],
          "name": "stdout"
        }
      ]
    },
    {
      "cell_type": "markdown",
      "metadata": {
        "id": "HMQPyJakTGGy"
      },
      "source": [
        "2.items"
      ]
    },
    {
      "cell_type": "code",
      "metadata": {
        "colab": {
          "base_uri": "https://localhost:8080/"
        },
        "id": "s6F8n4ppTMYm",
        "outputId": "fc616a7d-9cea-4fab-8bf2-6240ce9c0fcf"
      },
      "source": [
        "student = { 'name' : 'Thamanna', 'adm.no':15015,'department':'cse' }\r\n",
        "print(student.items())\r\n"
      ],
      "execution_count": null,
      "outputs": [
        {
          "output_type": "stream",
          "text": [
            "dict_items([('name', 'Thamanna'), ('adm.no', 15015), ('department', 'cse')])\n"
          ],
          "name": "stdout"
        }
      ]
    },
    {
      "cell_type": "markdown",
      "metadata": {
        "id": "_Bz56AHWUXzq"
      },
      "source": [
        "3. clear"
      ]
    },
    {
      "cell_type": "code",
      "metadata": {
        "colab": {
          "base_uri": "https://localhost:8080/"
        },
        "id": "xnv_LV6WUvrJ",
        "outputId": "ac2e9168-f0b6-4a5d-c642-72f84560a9fe"
      },
      "source": [
        "student = { 'name' : 'Thamanna', 'adm.no':15015,'department':'cse' }\r\n",
        "print(student.clear())\r\n"
      ],
      "execution_count": null,
      "outputs": [
        {
          "output_type": "stream",
          "text": [
            "None\n"
          ],
          "name": "stdout"
        }
      ]
    },
    {
      "cell_type": "markdown",
      "metadata": {
        "id": "kOl22eSYWPOE"
      },
      "source": [
        "4. values"
      ]
    },
    {
      "cell_type": "code",
      "metadata": {
        "colab": {
          "base_uri": "https://localhost:8080/"
        },
        "id": "OpWRApMHWPmI",
        "outputId": "64fd6908-0954-4591-b1ac-9287687fe664"
      },
      "source": [
        "student = { 'name' : 'Thamanna', 'adm.no':15015,'department':'cse' }\r\n",
        "print(student.values())\r\n"
      ],
      "execution_count": null,
      "outputs": [
        {
          "output_type": "stream",
          "text": [
            "dict_values(['Thamanna', 15015, 'cse'])\n"
          ],
          "name": "stdout"
        }
      ]
    },
    {
      "cell_type": "markdown",
      "metadata": {
        "id": "XF_4MZlTWVKV"
      },
      "source": [
        "5. copy"
      ]
    },
    {
      "cell_type": "code",
      "metadata": {
        "colab": {
          "base_uri": "https://localhost:8080/"
        },
        "id": "Isp5pvauWVZ0",
        "outputId": "0156d50a-b572-4e58-eba9-b2d92c766452"
      },
      "source": [
        "student = { 'name' : 'Thamanna', 'adm.no':15015,'department':'cse' }\r\n",
        "print(student.copy())\r\n"
      ],
      "execution_count": null,
      "outputs": [
        {
          "output_type": "stream",
          "text": [
            "{'name': 'Thamanna', 'adm.no': 15015, 'department': 'cse'}\n"
          ],
          "name": "stdout"
        }
      ]
    }
  ]
}